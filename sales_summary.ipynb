{
  "nbformat": 4,
  "nbformat_minor": 0,
  "metadata": {
    "colab": {
      "provenance": []
    },
    "kernelspec": {
      "name": "python3",
      "display_name": "Python 3"
    },
    "language_info": {
      "name": "python"
    }
  },
  "cells": [
    {
      "cell_type": "code",
      "execution_count": 1,
      "metadata": {
        "id": "xi3AnTUd1x3C"
      },
      "outputs": [],
      "source": [
        "import sqlite3\n",
        "import pandas as pd\n",
        "import matplotlib.pyplot as plt"
      ]
    },
    {
      "cell_type": "markdown",
      "source": [
        "## Connect to SQLite database"
      ],
      "metadata": {
        "id": "29J6XP7p16f7"
      }
    },
    {
      "cell_type": "code",
      "source": [
        "connection = sqlite3.connect(\"sales_data.db\")\n",
        "cursor = connection.cursor()"
      ],
      "metadata": {
        "id": "6d2rwEJa12MZ"
      },
      "execution_count": 2,
      "outputs": []
    },
    {
      "cell_type": "markdown",
      "source": [
        "## Create the sales table"
      ],
      "metadata": {
        "id": "Cg25woKg2EZR"
      }
    },
    {
      "cell_type": "code",
      "source": [
        "cursor.execute('''\n",
        "CREATE TABLE IF NOT EXISTS sales (\n",
        "    id INTEGER PRIMARY KEY AUTOINCREMENT,\n",
        "    product TEXT NOT NULL,\n",
        "    quantity INTEGER,\n",
        "    price REAL,  -- Price in INR\n",
        "    currency TEXT DEFAULT 'INR'\n",
        ")\n",
        "''')"
      ],
      "metadata": {
        "colab": {
          "base_uri": "https://localhost:8080/"
        },
        "id": "Kjx6dgC32DxA",
        "outputId": "c996aa0b-5ec5-42b2-c2d4-01e3dcaf9b79"
      },
      "execution_count": 3,
      "outputs": [
        {
          "output_type": "execute_result",
          "data": {
            "text/plain": [
              "<sqlite3.Cursor at 0x7e5421ded1c0>"
            ]
          },
          "metadata": {},
          "execution_count": 3
        }
      ]
    },
    {
      "cell_type": "markdown",
      "source": [
        "## Insert sample data"
      ],
      "metadata": {
        "id": "LvpOiOdw2PVm"
      }
    },
    {
      "cell_type": "code",
      "source": [
        "sample_data = [\n",
        "    (\"Apple\", 10, 20.0, \"INR\"),\n",
        "    (\"Banana\", 5, 5.0, \"INR\"),\n",
        "    (\"Apple\", 7, 20.0, \"INR\"),\n",
        "    (\"Orange\", 8, 15.0, \"INR\"),\n",
        "    (\"Banana\", 12, 5.0, \"INR\"),\n",
        "    (\"Orange\", 4, 15.0, \"INR\"),\n",
        "]\n",
        "\n",
        "cursor.executemany(\"INSERT INTO sales (product, quantity, price, currency) VALUES (?, ?, ?, ?)\", sample_data)\n",
        "connection.commit()"
      ],
      "metadata": {
        "id": "r1rJ44UB2Ou-"
      },
      "execution_count": 4,
      "outputs": []
    },
    {
      "cell_type": "code",
      "source": [
        "## Query the data from sqlite table\n",
        "cursor.execute('Select * from sales')\n",
        "rows=cursor.fetchall()\n",
        "for row in rows:\n",
        "  print(row)"
      ],
      "metadata": {
        "colab": {
          "base_uri": "https://localhost:8080/"
        },
        "id": "XryPUDvc2w0E",
        "outputId": "5b45ea39-139a-47b9-efab-3b6fb27a0043"
      },
      "execution_count": 5,
      "outputs": [
        {
          "output_type": "stream",
          "name": "stdout",
          "text": [
            "(1, 'Apple', 10, 20.0, 'INR')\n",
            "(2, 'Banana', 5, 5.0, 'INR')\n",
            "(3, 'Apple', 7, 20.0, 'INR')\n",
            "(4, 'Orange', 8, 15.0, 'INR')\n",
            "(5, 'Banana', 12, 5.0, 'INR')\n",
            "(6, 'Orange', 4, 15.0, 'INR')\n"
          ]
        }
      ]
    },
    {
      "cell_type": "markdown",
      "source": [
        "## Query total quantity and revenue per product"
      ],
      "metadata": {
        "id": "TiJM2oxpsaaz"
      }
    },
    {
      "cell_type": "code",
      "source": [
        "query = '''\n",
        "SELECT\n",
        "    product,\n",
        "    SUM(quantity) AS total_qty,\n",
        "    SUM(quantity * price) AS total_revenue\n",
        "FROM\n",
        "    sales\n",
        "GROUP BY\n",
        "    product\n",
        "'''"
      ],
      "metadata": {
        "id": "aiN2pWwlaHq1"
      },
      "execution_count": 6,
      "outputs": []
    },
    {
      "cell_type": "markdown",
      "source": [
        "## Load query result into pandas DataFrame"
      ],
      "metadata": {
        "id": "ILlbbze8sh7e"
      }
    },
    {
      "cell_type": "code",
      "source": [
        "df = pd.read_sql_query(query, connection)"
      ],
      "metadata": {
        "id": "VHKyVAp5sfti"
      },
      "execution_count": 7,
      "outputs": []
    },
    {
      "cell_type": "markdown",
      "source": [
        "## Print the results"
      ],
      "metadata": {
        "id": "0D2VoIZ9soPD"
      }
    },
    {
      "cell_type": "code",
      "source": [
        "print(\"Sales Summary (Currency: INR ₹):\\n\")\n",
        "print(df)"
      ],
      "metadata": {
        "colab": {
          "base_uri": "https://localhost:8080/"
        },
        "id": "lhOyI2iWsuNH",
        "outputId": "78f81dfc-374e-4057-9f30-038ec9f4f67e"
      },
      "execution_count": 8,
      "outputs": [
        {
          "output_type": "stream",
          "name": "stdout",
          "text": [
            "Sales Summary (Currency: INR ₹):\n",
            "\n",
            "  product  total_qty  total_revenue\n",
            "0   Apple         17          340.0\n",
            "1  Banana         17           85.0\n",
            "2  Orange         12          180.0\n"
          ]
        }
      ]
    },
    {
      "cell_type": "markdown",
      "source": [
        "## Plot a bar chart"
      ],
      "metadata": {
        "id": "BlAOqap_s0s8"
      }
    },
    {
      "cell_type": "code",
      "source": [
        "df.plot(kind='bar', x='product', y='total_revenue', legend=False, color='mediumseagreen')\n",
        "plt.title(\"Revenue by Product\")\n",
        "plt.ylabel(\"Revenue (INR ₹)\")\n",
        "plt.xlabel(\"Product\")\n",
        "plt.tight_layout()\n",
        "\n",
        "plt.savefig(\"sales_chart_inr.png\")\n",
        "plt.show()"
      ],
      "metadata": {
        "colab": {
          "base_uri": "https://localhost:8080/",
          "height": 487
        },
        "id": "XLmV9_G_s4WE",
        "outputId": "affce222-e792-4f85-cd21-267ebb914857"
      },
      "execution_count": 10,
      "outputs": [
        {
          "output_type": "display_data",
          "data": {
            "text/plain": [
              "<Figure size 640x480 with 1 Axes>"
            ],
            "image/png": "[encoded data removed]"
          },
          "metadata": {}
        }
      ]
    },
    {
      "cell_type": "markdown",
      "source": [
        "## Close the database connection"
      ],
      "metadata": {
        "id": "MgNHhODptKHo"
      }
    },
    {
      "cell_type": "code",
      "source": [
        "connection.close()"
      ],
      "metadata": {
        "id": "1EUOs9yrtLVR"
      },
      "execution_count": 13,
      "outputs": []
    },
    {
      "cell_type": "code",
      "source": [],
      "metadata": {
        "id": "8NLSH-4ouohp"
      },
      "execution_count": null,
      "outputs": []
    }
  ]
}